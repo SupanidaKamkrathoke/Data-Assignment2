{
  "nbformat": 4,
  "nbformat_minor": 0,
  "metadata": {
    "colab": {
      "private_outputs": true,
      "provenance": [],
      "authorship_tag": "ABX9TyPpACgBVPaMi6t7ai98Tgd9",
      "include_colab_link": true
    },
    "kernelspec": {
      "name": "python3",
      "display_name": "Python 3"
    },
    "language_info": {
      "name": "python"
    }
  },
  "cells": [
    {
      "cell_type": "markdown",
      "metadata": {
        "id": "view-in-github",
        "colab_type": "text"
      },
      "source": [
        "<a href=\"https://colab.research.google.com/github/SupanidaKamkrathoke/Data-Assignment2/blob/main/Logistics_Regresstion.ipynb\" target=\"_parent\"><img src=\"https://colab.research.google.com/assets/colab-badge.svg\" alt=\"Open In Colab\"/></a>"
      ]
    },
    {
      "cell_type": "code",
      "source": [
        "\n",
        "!pip install shap\n",
        "import shap"
      ],
      "metadata": {
        "id": "qRFkyqAjL4Pa"
      },
      "execution_count": null,
      "outputs": []
    },
    {
      "cell_type": "code",
      "source": [
        "\n",
        "import pandas as pd\n",
        "import numpy as np\n",
        "import matplotlib as mpl\n",
        "import seaborn as sns\n",
        "import sklearn\n",
        "import warnings\n",
        "import matplotlib.pyplot as plt\n",
        "import matplotlib.font_manager as fm\n",
        "\n",
        "from sklearn.model_selection import train_test_split\n",
        "from sklearn.preprocessing import LabelEncoder\n",
        "from sklearn.linear_model import LogisticRegression\n",
        "from sklearn.metrics import accuracy_score, classification_report, confusion_matrix\n",
        "from sklearn.preprocessing import StandardScaler\n",
        "shap.initjs()"
      ],
      "metadata": {
        "id": "7gSSXIYGL5ts"
      },
      "execution_count": null,
      "outputs": []
    },
    {
      "cell_type": "code",
      "source": [
        "!wget https://github.com/Phonbopit/sarabun-webfont/raw/master/fonts/thsarabunnew-webfont.ttf\n",
        "fm.fontManager.addfont('thsarabunnew-webfont.ttf')\n",
        "mpl.rc('font', family='TH Sarabun New')"
      ],
      "metadata": {
        "id": "4mM-bLi_EOYl"
      },
      "execution_count": null,
      "outputs": []
    },
    {
      "cell_type": "markdown",
      "source": [
        "1.Step 1\n",
        "\n",
        "\n",
        "*   Load Data\n",
        "*   Clean Data\n",
        "*   Transform\n",
        "\n",
        "\n",
        "\n",
        "\n"
      ],
      "metadata": {
        "id": "PMHLQpnzQVcv"
      }
    },
    {
      "cell_type": "code",
      "execution_count": null,
      "metadata": {
        "id": "61Kdv26aAzbZ"
      },
      "outputs": [],
      "source": [
        "import pandas as pd\n",
        "\n",
        "# Updated link to the raw CSV file on Github\n",
        "link = 'https://raw.githubusercontent.com/SupanidaKamkrathoke/Data-Assignment2/3e5e989366986e8a6766c01b0e9e6ab2e6695040/Smartphone_Usage_Data.csv'\n",
        "df = pd.read_csv(link)\n",
        "df.head()\n",
        "\n"
      ]
    },
    {
      "cell_type": "code",
      "source": [
        "df.columns = ['time', 'gender', 'age', 'career', 'salary' ,'os', 'game','social', 'movies', 'photo', 'new_brand', 'reason']\n",
        "df.info()"
      ],
      "metadata": {
        "id": "YvHOWx_yPiFF"
      },
      "execution_count": null,
      "outputs": []
    },
    {
      "cell_type": "code",
      "source": [
        "df = df.drop(columns=['time','reason'])\n",
        "df = df.dropna()\n",
        "df = df[(df['gender'] != '-') & (df['career'] != '.') & ((df['os'] != 'IOS และ Andriod'))]\n",
        "df.info()"
      ],
      "metadata": {
        "id": "oQo3UHO_PwXi"
      },
      "execution_count": null,
      "outputs": []
    },
    {
      "cell_type": "code",
      "source": [
        "target = 'os'\n",
        "\n",
        "X = df_encoded.astype(int)\n",
        "X"
      ],
      "metadata": {
        "id": "eRR9ukiRinsA"
      },
      "execution_count": null,
      "outputs": []
    },
    {
      "cell_type": "code",
      "source": [
        "X_train, X_test, y_train, y_test = train_test_split(X, y, test_size=0.3, random_state=42)"
      ],
      "metadata": {
        "id": "R1f1Oaoasw0m"
      },
      "execution_count": null,
      "outputs": []
    },
    {
      "cell_type": "code",
      "source": [
        "model = LogisticRegression(multi_class='multinomial', solver='lbfgs', random_state=42)\n",
        "model.fit(X_train, y_train)"
      ],
      "metadata": {
        "id": "f4owzJgJs3wE"
      },
      "execution_count": null,
      "outputs": []
    },
    {
      "cell_type": "markdown",
      "source": [
        "2. Train and Test (70%: 30%)"
      ],
      "metadata": {
        "id": "3ApGo54TwvQz"
      }
    },
    {
      "cell_type": "code",
      "source": [
        "\n",
        "warnings.filterwarnings('ignore')\n",
        "\n",
        "scaler = StandardScaler()\n",
        "scaler.fit(X_train)\n",
        "\n",
        "\n",
        "new_data = X_test.iloc[0:1]\n",
        "new_data_scaled = scaler.transform(new_data)\n",
        "prediction = model.predict(new_data_scaled)\n",
        "prediction_proba = model.predict_proba(new_data_scaled)\n",
        "\n",
        "print(\"\\nPrediction for new data:\")\n",
        "print(\"Predicted OS:\", le.inverse_transform(prediction)[0])\n",
        "print(\"Probabilities:\")\n",
        "for os, prob in zip(le.classes_, prediction_proba[0]):\n",
        "    print(f\"{os}: {prob:.4f}\")"
      ],
      "metadata": {
        "id": "m6xmHK7yIktY"
      },
      "execution_count": null,
      "outputs": []
    },
    {
      "cell_type": "code",
      "source": [
        "explainer = shap.Explainer(model, X_train)\n",
        "\n",
        "shap_values = explainer(X_test)"
      ],
      "metadata": {
        "id": "EJEr6c7zJLwV"
      },
      "execution_count": null,
      "outputs": []
    },
    {
      "cell_type": "markdown",
      "source": [
        "3. SHAP"
      ],
      "metadata": {
        "id": "vGam8pgBOr3D"
      }
    },
    {
      "cell_type": "code",
      "source": [
        "plt.title('The Rank of important features')\n",
        "plt.xlabel('Importance')\n",
        "plt.ylabel('Feature')\n",
        "shap.summary_plot(shap_values, X_test, plot_type=\"bar\")"
      ],
      "metadata": {
        "id": "rPH1iDqeJXVF"
      },
      "execution_count": null,
      "outputs": []
    },
    {
      "cell_type": "code",
      "source": [
        "shap.plots.beeswarm(shap_values)"
      ],
      "metadata": {
        "id": "x71gOwKWJfjt"
      },
      "execution_count": null,
      "outputs": []
    },
    {
      "cell_type": "code",
      "source": [
        "\n",
        "shap.initjs()\n",
        "shap.plots.force(shap_values[0])"
      ],
      "metadata": {
        "id": "JIW2IxTZJkVj"
      },
      "execution_count": null,
      "outputs": []
    },
    {
      "cell_type": "code",
      "source": [
        "\n",
        "shap.initjs()\n",
        "shap.plots.force(shap_values[1])\n",
        ""
      ],
      "metadata": {
        "id": "1u84kGJvJmsa"
      },
      "execution_count": null,
      "outputs": []
    },
    {
      "cell_type": "code",
      "source": [
        "linear_lr = sklearn.linear_model.LogisticRegression(solver=\"newton-cg\")\n",
        "linear_lr.fit(X_train, y_train)\n",
        "shap.plots.initjs()\n",
        "\n",
        "\n",
        "y_pred = linear_lr.predict(X_test)\n",
        "accuracy = accuracy_score(y_test, y_pred)\n",
        "print(f\"accurate: {accuracy}\")\n",
        "\n",
        "\n",
        "explainer = shap.KernelExplainer(linear_lr.predict_proba, X_train)\n",
        "shap_values = explainer.shap_values(X_test)\n",
        "shap.force_plot(explainer.expected_value[0], shap_values[..., 0], X_test)"
      ],
      "metadata": {
        "id": "7SWBIv91JuSX"
      },
      "execution_count": null,
      "outputs": []
    }
  ]
}